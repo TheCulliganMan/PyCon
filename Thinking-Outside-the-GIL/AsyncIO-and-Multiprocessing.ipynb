{
 "cells": [
  {
   "cell_type": "markdown",
   "metadata": {},
   "source": [
    "# Thinking Outside the GIL async.io and Multiprocessing\n",
    "## John Reese -- Facebook -- exabyte scale storage\n",
    "\n",
    "### Takeaways:\n",
    "\n",
    "1. Switch to Python 3\n",
    "  * ~45% memory savings\n",
    "  * ~20% runtime reduction\n",
    "\n",
    "\n",
    "Use multiprocessing primitives + event loop per process, queues for work and results\n",
    "\n",
    "Newer versions of python3 use spawn instead of fork.  This means we could be getting memory savings already with the 3.6.4 versions. \n",
    "\n",
    "# Github\n",
    "https://github.com/jreese/aiomultiprocess\n",
    "# IT IS ON PIP!!!\n",
    "```bash\n",
    "pip install aiomultiprocess\n",
    "```"
   ]
  },
  {
   "cell_type": "code",
   "execution_count": null,
   "metadata": {},
   "outputs": [],
   "source": []
  }
 ],
 "metadata": {
  "kernelspec": {
   "display_name": "Python 3",
   "language": "python",
   "name": "python3"
  },
  "language_info": {
   "codemirror_mode": {
    "name": "ipython",
    "version": 3
   },
   "file_extension": ".py",
   "mimetype": "text/x-python",
   "name": "python",
   "nbconvert_exporter": "python",
   "pygments_lexer": "ipython3",
   "version": "3.6.3"
  }
 },
 "nbformat": 4,
 "nbformat_minor": 2
}
